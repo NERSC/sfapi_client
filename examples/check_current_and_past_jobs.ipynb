{
 "cells": [
  {
   "cell_type": "markdown",
   "id": "83abc862",
   "metadata": {},
   "source": [
    "## Check currently running jobs\n",
    "\n",
    "The `sfapi_client` can easily be used to get your current jobs running on the system, or information about past jobs.\n",
    "\n",
    "First we'll import the required libraries, `Client`  to handle the requests and the `Machines` enum to get the correct resource."
   ]
  },
  {
   "cell_type": "code",
   "execution_count": 13,
   "id": "c7dd56fa",
   "metadata": {},
   "outputs": [],
   "source": [
    "# import client library\n",
    "from sfapi_client import Client\n",
    "# import the machines enum to choose the resource\n",
    "from sfapi_client.compute import Machines\n",
    "# this will help display the outputs later\n",
    "import json\n",
    "\n",
    "user_name=\"elvis\""
   ]
  },
  {
   "cell_type": "markdown",
   "id": "747de001",
   "metadata": {},
   "source": [
    "The next lines of code will create a client which can be used to get an `Compute` object. This object can be used to look at the current and past job queues, list files and directories, and run simple commands in the system.\n",
    "\n",
    "In this example we will get the currently running jobs for the user `elvis`."
   ]
  },
  {
   "cell_type": "code",
   "execution_count": 2,
   "id": "c166ede5",
   "metadata": {
    "scrolled": false
   },
   "outputs": [],
   "source": [
    "with Client() as client:\n",
    "    perlmutter = client.compute(Machines.perlmutter)\n",
    "    # This selects just the jobs in the regular cpu partition on perlmutter\n",
    "    jobs = perlmutter.jobs(user=user_name, partition='regular_milan_ss11')"
   ]
  },
  {
   "cell_type": "markdown",
   "id": "7f215e73",
   "metadata": {},
   "source": [
    "All the jobs currenlty in the job queue are stored in the newly created `jobs` list. An easy way of viewing and this list is to print the objects in the list. "
   ]
  },
  {
   "cell_type": "code",
   "execution_count": 3,
   "id": "63b5e715",
   "metadata": {
    "scrolled": false
   },
   "outputs": [
    {
     "name": "stdout",
     "output_type": "stream",
     "text": [
      "[\n",
      "    {\n",
      "        \"account\": \"ntrain\",\n",
      "        \"tres_per_node\": \"N/A\",\n",
      "        \"min_cpus\": \"2\",\n",
      "        \"min_tmp_disk\": \"0\",\n",
      "        \"end_time\": \"2023-04-27T15:52:57\",\n",
      "        \"features\": \"cpu\",\n",
      "        \"group\": \"12345\",\n",
      "        \"over_subscribe\": \"NO\",\n",
      "        \"jobid\": \"8218256\",\n",
      "        \"name\": \"HPXGaudiTest\",\n",
      "        \"comment\": \"(null)\",\n",
      "        \"time_limit\": \"30:00\",\n",
      "        \"min_memory\": \"0\",\n",
      "        \"req_nodes\": \"\",\n",
      "        \"command\": \"/global/cfs/cdirs/ntrain/servicenow/INC0200856/perlmutter-podman.sh\",\n",
      "        \"priority\": \"67679\",\n",
      "        \"qos\": \"regular_1\",\n",
      "        \"reason\": \"None\",\n",
      "        \"field_\": null,\n",
      "        \"st\": \"R\",\n",
      "        \"user\": \"elvis\",\n",
      "        \"reservation\": \"(null)\",\n",
      "        \"wckey\": \"(null)\",\n",
      "        \"exc_nodes\": \"\",\n",
      "        \"nice\": \"0\",\n",
      "        \"s_c_t\": \"*:*:*\",\n",
      "        \"exec_host\": \"nid005656\",\n",
      "        \"cpus\": \"2048\",\n",
      "        \"nodes\": \"8\",\n",
      "        \"dependency\": \"(null)\",\n",
      "        \"array_job_id\": \"8218256\",\n",
      "        \"sockets_per_node\": \"*\",\n",
      "        \"cores_per_socket\": \"*\",\n",
      "        \"threads_per_core\": \"*\",\n",
      "        \"array_task_id\": \"N/A\",\n",
      "        \"time_left\": \"3:13\",\n",
      "        \"time\": \"26:47\",\n",
      "        \"nodelist\": \"nid[005656-005663]\",\n",
      "        \"contiguous\": \"0\",\n",
      "        \"partition\": \"regular_milan_ss11\",\n",
      "        \"nodelist_reason_\": \"nid[005656-005663]\",\n",
      "        \"start_time\": \"2023-04-27T15:22:57\",\n",
      "        \"state\": \"RUNNING\",\n",
      "        \"uid\": \"12345\",\n",
      "        \"submit_time\": \"2023-04-27T15:20:28\",\n",
      "        \"licenses\": \"cfs:1\",\n",
      "        \"core_spec\": \"N/A\",\n",
      "        \"schednodes\": \"(null)\",\n",
      "        \"work_dir\": \"/global/cfs/cdirs/ntrain/servicenow/INC0200856\"\n",
      "    }\n",
      "]\n"
     ]
    }
   ],
   "source": [
    "print(json.dumps([j.dict() for j in jobs], indent=4))"
   ]
  },
  {
   "cell_type": "markdown",
   "id": "b9c272b3",
   "metadata": {},
   "source": [
    "A single job can be pulled from the list for further inspection. This returns a `Squeue` object which is the output you would get from running the command `squeue` from slurm. This is useful for getting jobs which are currently pending or running."
   ]
  },
  {
   "cell_type": "code",
   "execution_count": 4,
   "id": "6ed12a56",
   "metadata": {
    "scrolled": false
   },
   "outputs": [
    {
     "data": {
      "text/plain": [
       "JobSqueue(account='ntrain', tres_per_node='N/A', min_cpus='2', min_tmp_disk='0', end_time='2023-04-27T15:52:57', features='cpu', group='12345', over_subscribe='NO', jobid='8218256', name='HPXGaudiTest', comment='(null)', time_limit='30:00', min_memory='0', req_nodes='', command='/global/cfs/cdirs/ntrain/servicenow/INC0200856/perlmutter-podman.sh', priority='67679', qos='regular_1', reason='None', field_=None, st='R', user='elvis', reservation='(null)', wckey='(null)', exc_nodes='', nice='0', s_c_t='*:*:*', exec_host='nid005656', cpus='2048', nodes='8', dependency='(null)', array_job_id='8218256', sockets_per_node='*', cores_per_socket='*', threads_per_core='*', array_task_id='N/A', time_left='3:13', time='26:47', nodelist='nid[005656-005663]', contiguous='0', partition='regular_milan_ss11', nodelist_reason_='nid[005656-005663]', start_time='2023-04-27T15:22:57', state=<JobState.RUNNING: 'RUNNING'>, uid='12345', submit_time='2023-04-27T15:20:28', licenses='cfs:1', core_spec='N/A', schednodes='(null)', work_dir='/global/cfs/cdirs/ntrain/servicenow/INC0200856', compute=Compute(name='perlmutter', full_name='Perlmutter', description='System Degraded', system_type='compute', notes=['2023-04-26 18:16 -- 2023-04-27 22:00 PDT, System Degraded, Perlmutter is running user jobs again.  There will be a rolling update of compute nodes and login nodes over night and there may be periodic brief interruptions to access to the scratch filesystem, but Perlmutter is available for interactive and batch scheduled jobs.'], status=<StatusValue.degraded: 'degraded'>, updated_at=datetime.datetime(2023, 4, 26, 18, 16, tzinfo=datetime.timezone(datetime.timedelta(days=-1, seconds=61200))), client=<sfapi_client._sync.client.Client object at 0x104f22090>))"
      ]
     },
     "execution_count": 4,
     "metadata": {},
     "output_type": "execute_result"
    }
   ],
   "source": [
    "jobs[0]"
   ]
  },
  {
   "cell_type": "markdown",
   "id": "29fd3988",
   "metadata": {},
   "source": [
    "More specific information about the job can also be gotten from this object like the number of nodes or it's `jobid`."
   ]
  },
  {
   "cell_type": "code",
   "execution_count": 9,
   "id": "46059d7b",
   "metadata": {},
   "outputs": [
    {
     "name": "stdout",
     "output_type": "stream",
     "text": [
      "Numer of nodes = 8\n",
      "jobid = 8218256\n"
     ]
    }
   ],
   "source": [
    "print(f\"Numer of nodes = {jobs[0].nodes}\")\n",
    "print(f\"jobid = {jobs[0].jobid}\")"
   ]
  },
  {
   "cell_type": "markdown",
   "id": "2cb35bad",
   "metadata": {},
   "source": [
    "For jobs that have finished it is useful to get infomation about them using the `sacct` command which can be done in the sfapi_client library requesting just one `jobid` or by specifying the command in the job request."
   ]
  },
  {
   "cell_type": "code",
   "execution_count": 11,
   "id": "a58638cf",
   "metadata": {},
   "outputs": [],
   "source": [
    "with Client() as client:\n",
    "    perlmutter = client.compute(Machines.perlmutter)\n",
    "    # This selects just the jobs in the regular cpu partition on perlmutter\n",
    "    job = perlmutter.job(jobid=jobs[0].jobid)"
   ]
  },
  {
   "cell_type": "code",
   "execution_count": 12,
   "id": "6791ba66",
   "metadata": {},
   "outputs": [
    {
     "data": {
      "text/plain": [
       "JobSacct(account='ntrain', admincomment='{\"stdinPath\":\"\\\\/dev\\\\/null\",\"arrayTaskId\":4294967294,\"qos\":\"regular_1\",\"nodes\":\"nid[005656-005663]\",\"jobDerivedExitCode\":0,\"allocNodes\":8,\"licenses\":\"cfs:1\",\"jobExitCode\":0,\"cluster\":\"perlmutter\",\"features\":\"cpu\",\"batchHost\":\"nid005656\",\"timeLimit\":30,\"submitTime\":1682634028,\"packJobId\":0,\"argv\":[\"\\\\/global\\\\/cfs\\\\/cdirs\\\\/ntrain\\\\/servicenow\\\\/INC0200856\\\\/perlmutter-podman.sh\"],\"tresRequest\":\"1=2048,2=3904016,3=18446744073709551614,4=8,5=2048\",\"gresRequest\":\"cpu=16,mem=3904016M,node=8,billing=16\",\"arrayJobId\":0,\"name\":\"HPXGaudiTest\",\"packJobOffset\":0,\"partition\":\"regular_milan_ss11\",\"workingDirectory\":\"\\\\/global\\\\/cfs\\\\/cdirs\\\\/ntrain\\\\/servicenow\\\\/INC0200856\",\"jobAccount\":\"ntrain\",\"restartCnt\":0,\"reboot\":0,\"uid\":12345,\"endTime\":1682636006,\"allocCpus\":2048,\"jobId\":8218256,\"startTime\":1682634177,\"priority\":67679,\"resizing\":0}', alloccpus='2048', allocnodes='8', alloctres='billing=2048,cpu=2048,energy=3774233,mem=3904016M,node=8', associd='206287', avecpu='', avecpufreq='', avediskread='', avediskwrite='', avepages='', averss='', avevmsize='', blockid='', cluster='perlmutter', comment='', constraints='cpu', consumedenergy='3.77M', consumedenergyraw='3774233', cputime='43-08:29:52', cputimeraw='3745792', dbindex='62998204', derivedexitcode='0:0', elapsed='00:30:29', elapsedraw='1829', eligible='2023-04-27T15:20:28', end='2023-04-27T15:53:26', exitcode='0:0', flags='SchedBackfill,StartRecieved', gid='12345', group='elvis', jobid='8218256', jobidraw='8218256', jobname='HPXGaudiTest', layout='', maxdiskread='', maxdiskreadnode='', maxdiskreadtask='', maxdiskwrite='', maxdiskwritenode='', maxdiskwritetask='', maxpages='', maxpagesnode='', maxpagestask='', maxrss='', maxrssnode='', maxrsstask='', maxvmsize='', maxvmsizenode='', maxvmsizetask='', mcslabel='', mincpu='', mincpunode='', mincputask='', ncpus='2048', nnodes='8', nodelist='nid[005656-005663]', ntasks='', priority='67679', partition='regular_milan_ss11', qos='regular_1', qosraw='16', reason='None', reqcpufreq='Unknown', reqcpufreqmin='Unknown', reqcpufreqmax='Unknown', reqcpufreqgov='Unknown', reqcpus='16', reqmem='3904016M', reqnodes='8', reqtres='billing=16,cpu=16,mem=3904016M,node=8', reservation='', reservationid='', reserved='00:02:29', resvcpu='00:39:44', resvcpuraw='2384', start='2023-04-27T15:22:57', state=<JobState.TIMEOUT: 'TIMEOUT'>, submit='2023-04-27T15:20:28', suspended='00:00:00', systemcpu='00:00:00', systemcomment='', timelimit='00:30:00', timelimitraw='30', totalcpu='00:00:00', tresusageinave='', tresusageinmax='', tresusageinmaxnode='', tresusageinmaxtask='', tresusageinmin='', tresusageinminnode='', tresusageinmintask='', tresusageintot='', tresusageoutave='', tresusageoutmax='', tresusageoutmaxnode='', tresusageoutmaxtask='', tresusageoutmin='', tresusageoutminnode='', tresusageoutmintask='', tresusageouttot='', uid='12345', user='elvis', usercpu='00:00:00', wckey='', wckeyid='0', workdir='/global/cfs/cdirs/ntrain/servicenow/INC0200856', compute=Compute(name='perlmutter', full_name='Perlmutter', description='System Degraded', system_type='compute', notes=['2023-04-26 18:16 -- 2023-04-27 22:00 PDT, System Degraded, Perlmutter is running user jobs again.  There will be a rolling update of compute nodes and login nodes over night and there may be periodic brief interruptions to access to the scratch filesystem, but Perlmutter is available for interactive and batch scheduled jobs.'], status=<StatusValue.degraded: 'degraded'>, updated_at=datetime.datetime(2023, 4, 26, 18, 16, tzinfo=datetime.timezone(datetime.timedelta(days=-1, seconds=61200))), client=<sfapi_client._sync.client.Client object at 0x104ba1510>))"
      ]
     },
     "execution_count": 12,
     "metadata": {},
     "output_type": "execute_result"
    }
   ],
   "source": [
    "job"
   ]
  },
  {
   "cell_type": "code",
   "execution_count": null,
   "id": "b98307c8",
   "metadata": {},
   "outputs": [],
   "source": []
  }
 ],
 "metadata": {
  "kernelspec": {
   "display_name": "Python 3 (ipykernel)",
   "language": "python",
   "name": "python3"
  },
  "language_info": {
   "codemirror_mode": {
    "name": "ipython",
    "version": 3
   },
   "file_extension": ".py",
   "mimetype": "text/x-python",
   "name": "python",
   "nbconvert_exporter": "python",
   "pygments_lexer": "ipython3",
   "version": "3.11.0"
  }
 },
 "nbformat": 4,
 "nbformat_minor": 5
}
